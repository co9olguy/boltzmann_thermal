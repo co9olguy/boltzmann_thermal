{
 "cells": [
  {
   "cell_type": "code",
   "execution_count": null,
   "metadata": {
    "collapsed": true
   },
   "outputs": [],
   "source": [
    "# Thermalization-inspired training of Restricted Boltzmann machines\n",
    "## Notebook 1"
   ]
  },
  {
   "cell_type": "code",
   "execution_count": 2,
   "metadata": {
    "collapsed": false
   },
   "outputs": [],
   "source": [
    "import numpy as np\n",
    "import matplotlib.pyplot as plt\n",
    "%matplotlib inline\n",
    "\n",
    "def prob_to_binary(probs):\n",
    "    return np.random.binomial(1,probs)"
   ]
  },
  {
   "cell_type": "markdown",
   "metadata": {},
   "source": [
    "# RBM which encodes probabilities instead of binary values \n",
    "\n",
    "The RBM is also set up so that it can interact with a bath"
   ]
  },
  {
   "cell_type": "code",
   "execution_count": 3,
   "metadata": {
    "collapsed": true
   },
   "outputs": [],
   "source": [
    "class RBMProb:\n",
    "    \"\"\"A probabilistic implementation of a Restricted Boltzmann Machine.\"\"\"\n",
    "    def __init__(self, num_v = 4, num_h = 4, mixing_param = 0.1):\n",
    "       \n",
    "        #internal parameters\n",
    "        self.num_v = num_v\n",
    "        self.num_h = num_h\n",
    "        \n",
    "        #initial biases/couplings are random\n",
    "        self.b_v = np.random.uniform(size = (num_v,))\n",
    "        self.b_h = np.random.uniform(size = (num_h,)) \n",
    "        self.w = np.random.uniform(size = (num_v,num_h))\n",
    "        \n",
    "        #initial state of visible and hidden units is random\n",
    "        self.visible_probs = np.random.uniform(size = (num_v,))\n",
    "        self.hidden_probs = np.random.uniform(size = (num_h,))            \n",
    "        \n",
    "        #mixing parameter\n",
    "        self.mixing_param = mixing_param\n",
    "\n",
    "    def __str__(self):\n",
    "        stateString = 'vis_probs: \\n' + str(self.visible_probs) + '\\n' + 'hid_probs: \\n'+ str(self.hidden_probs) + '\\n' \n",
    "        return stateString\n",
    "                \n",
    "    def evolve(self, num_steps, print_states = True):\n",
    "        #internal evolution of RBM\n",
    "        \n",
    "        m = self.mixing_param\n",
    "        \n",
    "        if print_states:\n",
    "            print 'Initial state: '\n",
    "            print self\n",
    "        \n",
    "        for ctr in range(0,num_steps):\n",
    "            #perform update\n",
    "            self.hidden_probs = m*self.visible_probs + (1-m)*self.hidden_probs\n",
    "            self.visible_probs = m*self.hidden_probs + (1-m)*self.visible_probs\n",
    "\n",
    "        if print_states:        \n",
    "            print '\\nFinal state: '\n",
    "            print self\n",
    "\n",
    "    def interact_with_bath(self, bath):\n",
    "        \n",
    "        m = self.mixing_param\n",
    "        \n",
    "        if bath.rep == 'probability':\n",
    "            self.visible_probs = bath.probs\n",
    "        elif bath.rep == 'binary':\n",
    "            self.visible_probs = m*bath.state + (1-m)*self.visible_probs"
   ]
  },
  {
   "cell_type": "markdown",
   "metadata": {},
   "source": [
    "# Define simple bath models"
   ]
  },
  {
   "cell_type": "code",
   "execution_count": 4,
   "metadata": {
    "collapsed": false
   },
   "outputs": [],
   "source": [
    "class Bath:\n",
    "    def __init__(self, num_v = 4, representation = 'probability'):\n",
    "        \n",
    "        self.num_v = num_v\n",
    "        self.rep = representation\n",
    "        #for the moment, take fixed bath state\n",
    "        self.probs = np.zeros((num_v,))\n",
    "        if self.rep == 'binary':\n",
    "            self.state = prob_to_binary(self.probs)\n",
    "            \n",
    "    def refresh(self,new_vals):\n",
    "        if self.rep == 'binary':\n",
    "            self.state = new_vals\n",
    "        elif self.rep == 'probability':\n",
    "            self.probs = new_vals"
   ]
  },
  {
   "cell_type": "markdown",
   "metadata": {},
   "source": [
    "# Initialize system and bath\n",
    "\n",
    "Note: we will explore two representations for the bath"
   ]
  },
  {
   "cell_type": "code",
   "execution_count": 15,
   "metadata": {
    "collapsed": false
   },
   "outputs": [],
   "source": [
    "#initialize system and bath parameters\n",
    "np.random.seed(0)\n",
    "num_levels = 5\n",
    "num_v = num_levels\n",
    "num_h = num_levels\n",
    "sys = RBMProb(num_v,num_h,mixing_param=0.3) \n",
    "\n",
    "betas = np.random.uniform(0.0,2.0,num_levels) #arbitrary choice of betas\n",
    "bath_probs = np.exp(-betas)\n",
    "bath_probs /= sum(bath_probs)\n",
    "\n",
    "data_prob = Bath(num_v,representation='probability')\n",
    "data_binary = Bath(num_v,representation='binary')"
   ]
  },
  {
   "cell_type": "markdown",
   "metadata": {},
   "source": [
    "# Let system and bath interact and equilibriate"
   ]
  },
  {
   "cell_type": "markdown",
   "metadata": {},
   "source": [
    "### Use probability encoding for bath"
   ]
  },
  {
   "cell_type": "code",
   "execution_count": 16,
   "metadata": {
    "collapsed": false
   },
   "outputs": [
    {
     "data": {
      "image/png": "[encoded data removed]",
      "text/plain": [
       "<matplotlib.figure.Figure at 0x7fd4b7404250>"
      ]
     },
     "metadata": {},
     "output_type": "display_data"
    }
   ],
   "source": [
    "#let sys/bath interact\n",
    "num_steps = 25\n",
    "\n",
    "store_visible = []\n",
    "store_hidden = []\n",
    "for _ in range(num_steps):\n",
    "\n",
    "    #update bath (doesn't do anything in this case)\n",
    "    data_prob.refresh(bath_probs)\n",
    "    \n",
    "    #interact with bath\n",
    "    sys.interact_with_bath(data_prob)\n",
    "    store_visible.append(list(sys.visible_probs))\n",
    "    store_hidden.append(list(sys.hidden_probs))\n",
    "    \n",
    "    #system self-interaction\n",
    "    sys.evolve(1,print_states=False)\n",
    "    store_visible.append(list(sys.visible_probs))\n",
    "    store_hidden.append(list(sys.hidden_probs))\n",
    "\n",
    "store_visible = np.array(store_visible)\n",
    "store_hidden = np.array(store_hidden)\n",
    "    \n",
    "ax1=plt.subplot(1,2,1);\n",
    "plt.plot(store_visible);\n",
    "plt.subplot(1,2,2,sharey = ax1);\n",
    "plt.plot(store_hidden);\n",
    "ax1.set_ylim([0.0,1.0]);"
   ]
  },
  {
   "cell_type": "code",
   "execution_count": 17,
   "metadata": {
    "collapsed": false
   },
   "outputs": [
    {
     "name": "stdout",
     "output_type": "stream",
     "text": [
      "[ 0.09665012  0.24262835  0.28556487  0.19664088  0.17856491]\n",
      "[ 0.09667479  0.2426466   0.28560355  0.19662807  0.17861075]\n",
      "[ 0.09663954  0.24262053  0.28554829  0.19664637  0.17854527]\n"
     ]
    }
   ],
   "source": [
    "print sys.visible_probs\n",
    "print sys.hidden_probs\n",
    "print bath_probs"
   ]
  },
  {
   "cell_type": "markdown",
   "metadata": {},
   "source": [
    "All subsystems (visible, hidden, bath) are in equilibrium"
   ]
  },
  {
   "cell_type": "markdown",
   "metadata": {},
   "source": [
    "### Use binary encoding for bath \n",
    "(binary values chosen stochastically based on probabilities)"
   ]
  },
  {
   "cell_type": "code",
   "execution_count": 18,
   "metadata": {
    "collapsed": false
   },
   "outputs": [
    {
     "data": {
      "image/png": "[encoded data removed]",
      "text/plain": [
       "<matplotlib.figure.Figure at 0x7fd4b73f98d0>"
      ]
     },
     "metadata": {},
     "output_type": "display_data"
    }
   ],
   "source": [
    "#let sys/bath interact for long time\n",
    "num_steps = 10000\n",
    "\n",
    "store_visible = []\n",
    "store_hidden = []\n",
    "store_bath = []\n",
    "\n",
    "for ctr in range(0,num_steps):\n",
    "\n",
    "    #update bath\n",
    "    data_binary.refresh(prob_to_binary(bath_probs))\n",
    "    store_bath.append(data_binary.probs)\n",
    "    \n",
    "    #interact with bath\n",
    "    sys.interact_with_bath(data_binary)\n",
    "    store_visible.append(list(sys.visible_probs))\n",
    "    store_hidden.append(list(sys.hidden_probs))\n",
    "    \n",
    "    #system self-interaction\n",
    "    sys.evolve(1,print_states=False)\n",
    "    store_visible.append(list(sys.visible_probs))\n",
    "    store_hidden.append(list(sys.hidden_probs))\n",
    "\n",
    "#evolve without bath    \n",
    "#for ctr in range(0,num_steps):   \n",
    "#    sys.evolve(1,print_states=False)\n",
    "#    store_visible.append(list(sys.visible_probs))\n",
    "#    store_hidden.append(list(sys.hidden_probs))    \n",
    "\n",
    "store_visible = np.array(store_visible)\n",
    "store_hidden = np.array(store_hidden)\n",
    "store_bath = np.array(store_bath)\n",
    "\n",
    "    \n",
    "ax1=plt.subplot(1,2,1);\n",
    "plt.plot(store_visible);\n",
    "plt.subplot(1,2,2,sharey = ax1);\n",
    "plt.plot(store_hidden);\n",
    "ax1.set_ylim([0.0,1.0]);\n"
   ]
  },
  {
   "cell_type": "code",
   "execution_count": 19,
   "metadata": {
    "collapsed": false,
    "scrolled": true
   },
   "outputs": [
    {
     "name": "stdout",
     "output_type": "stream",
     "text": [
      "[ 0.09572756  0.23628451  0.28645729  0.19555559  0.17543565]\n",
      "[ 0.09575195  0.2362442   0.28651505  0.19564157  0.17541294]\n",
      "[ 0.09663954  0.24262053  0.28554829  0.19664637  0.17854527]\n"
     ]
    }
   ],
   "source": [
    "print np.mean(store_visible[1000:-1,:],axis=0) #ignoring \"burn-in\" period\n",
    "print np.mean(store_hidden[1000:-1,:],axis=0) #ignoring \"burn-in\" period\n",
    "print bath_probs"
   ]
  },
  {
   "cell_type": "markdown",
   "metadata": {
    "collapsed": true
   },
   "source": [
    "All levels are once again in equilibrium (on average)"
   ]
  },
  {
   "cell_type": "markdown",
   "metadata": {},
   "source": [
    "# Average bath state over N most recent realizations"
   ]
  },
  {
   "cell_type": "code",
   "execution_count": 20,
   "metadata": {
    "collapsed": false
   },
   "outputs": [
    {
     "name": "stdout",
     "output_type": "stream",
     "text": [
      "[[0 1 1 0 0]\n",
      " [0 0 0 0 0]\n",
      " [0 1 0 0 0]\n",
      " [0 0 1 0 0]\n",
      " [0 0 0 0 1]\n",
      " [0 1 0 0 0]\n",
      " [0 0 1 1 0]\n",
      " [0 0 0 0 1]\n",
      " [0 1 0 0 0]\n",
      " [0 0 0 0 0]]\n",
      "[ 0.   0.4  0.3  0.1  0.2]\n"
     ]
    }
   ],
   "source": [
    "store_recent_states = []\n",
    "store_binary = []\n",
    "for _ in range(10):\n",
    "    data_binary.refresh(prob_to_binary(bath_probs)) #choose new realizations\n",
    "    store_binary.append(list(data_binary.state))\n",
    "store_binary = np.array(store_binary)\n",
    "print store_binary\n",
    "print store_binary.mean(axis=0)"
   ]
  },
  {
   "cell_type": "code",
   "execution_count": 11,
   "metadata": {
    "collapsed": false,
    "scrolled": true
   },
   "outputs": [
    {
     "data": {
      "image/png": "[encoded data removed]",
      "text/plain": [
       "<matplotlib.figure.Figure at 0x7fd4b7477750>"
      ]
     },
     "metadata": {},
     "output_type": "display_data"
    }
   ],
   "source": [
    "#let sys/bath interact for long time\n",
    "num_steps = 5000\n",
    "N = 10\n",
    "\n",
    "store_visible = []\n",
    "store_hidden = []\n",
    "store_bath = []\n",
    "store_recent_bath_states = []\n",
    "\n",
    "for ctr in range(num_steps):\n",
    "\n",
    "    #update bath\n",
    "    for _ in range(N):\n",
    "        data_binary.refresh(prob_to_binary(bath_probs)) #choose new realizations\n",
    "        store_recent_bath_states.append(list(data_binary.state)) \n",
    "    recent_bath_avg_probs = np.array(store_recent_bath_states).mean(axis=0) #average realizations over N steps\n",
    "    data_prob.refresh(recent_bath_avg_probs) #use these averages as probabilities for bath\n",
    "    store_bath.append(data_prob.probs)\n",
    "    \n",
    "    #interact with bath\n",
    "    sys.interact_with_bath(data_prob)\n",
    "    store_visible.append(list(sys.visible_probs))\n",
    "    store_hidden.append(list(sys.hidden_probs))\n",
    "    \n",
    "    #system self-interaction\n",
    "    sys.evolve(1,print_states=False)\n",
    "    store_visible.append(list(sys.visible_probs))\n",
    "    store_hidden.append(list(sys.hidden_probs))\n",
    "\n",
    "#evolve without bath    \n",
    "#for ctr in range(0,num_steps):   \n",
    "#    sys.evolve(1,print_states=False)\n",
    "#    store_visible.append(list(sys.visible_probs))\n",
    "#    store_hidden.append(list(sys.hidden_probs))    \n",
    "\n",
    "store_visible = np.array(store_visible)\n",
    "store_hidden = np.array(store_hidden)\n",
    "store_bath = np.array(store_bath)\n",
    "\n",
    "    \n",
    "ax1=plt.subplot(1,2,1);\n",
    "plt.plot(store_visible);\n",
    "plt.subplot(1,2,2,sharey = ax1);\n",
    "plt.plot(store_hidden);\n",
    "ax1.set_ylim([0.0,1.0]);\n"
   ]
  },
  {
   "cell_type": "code",
   "execution_count": 12,
   "metadata": {
    "collapsed": false
   },
   "outputs": [
    {
     "name": "stdout",
     "output_type": "stream",
     "text": [
      "[ 0.09741513  0.24417189  0.28822218  0.19907161  0.18034183]\n",
      "[ 0.09741336  0.24417233  0.28821826  0.19907376  0.18034026]\n",
      "[ 0.09663954  0.24262053  0.28554829  0.19664637  0.17854527]\n"
     ]
    }
   ],
   "source": [
    "print np.mean(store_visible[1000:-1,:],axis=0) #ignoring \"burn-in\" period\n",
    "print np.mean(store_hidden[1000:-1,:],axis=0) #ignoring \"burn-in\" period\n",
    "print bath_probs"
   ]
  },
  {
   "cell_type": "markdown",
   "metadata": {},
   "source": [
    "### Questions:\n",
    "\n",
    "- The evolution here is just mixing. What happens when I use a different type of evolution, e.g., typical neural network activations, or q.mechanical unitary evolution, or a master/rate equation?\n",
    "\n",
    "- What is the difference between the probability and binary valued baths?\n",
    "\n",
    "- Why might we want a binary-valued representation?\n",
    "    - At least for the bath, it's all we have really, since we don't have probabilities from data (except by taking huge averages)\n",
    "\n",
    "- What is the best way to represent everything as systems and subsystems?\n",
    "    - I'm guessing that we want each layer $L=B_V,S_V,S_H$ to be its own system, with corresponding energy function $H_L$. \n",
    "    - If each layer contains N binary units, we would want to encode $N$ 2-level subsystems. \n",
    "    - Since we have a restricted Boltzmann machine, the energy function of a given layer does not couple these 2-level pieces, so $H^L = \\sum_{k=1}^N H_k^L$, where $H_k^L$ only acts on subsystem $k$ of layer $L$.\n",
    "    - WLOG, we can take $H^L_k=E_k\\sigma_z$ for all units (how does this connect to a bias?)\n",
    "    - With this formalism, we can represent interactions between the bath and visible layer, or visible and hidden layer, via interactions $H_{BV}$ and $H_{VH}$\n",
    "    - The standard neural network update rule is $h_i = \\sigma(w_i v+b^H_i)$, i.e., \"if activation energy is low, don't activate, if activation energy is high, activate, and if energy is in middle, choose 50/50\"\n",
    "\n",
    "- Do I want hidden and visible units to be in same state??? This seems to break the expressiveness..."
   ]
  },
  {
   "cell_type": "code",
   "execution_count": null,
   "metadata": {
    "collapsed": true
   },
   "outputs": [],
   "source": []
  }
 ],
 "metadata": {
  "kernelspec": {
   "display_name": "Python 2",
   "language": "python",
   "name": "python2"
  },
  "language_info": {
   "codemirror_mode": {
    "name": "ipython",
    "version": 2
   },
   "file_extension": ".py",
   "mimetype": "text/x-python",
   "name": "python",
   "nbconvert_exporter": "python",
   "pygments_lexer": "ipython2",
   "version": "2.7.10"
  }
 },
 "nbformat": 4,
 "nbformat_minor": 0
}
