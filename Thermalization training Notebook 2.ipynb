{
 "cells": [
  {
   "cell_type": "markdown",
   "metadata": {},
   "source": [
    "# Thermalization-inspired training of Restricted Boltzmann machines\n",
    "## Notebook 2"
   ]
  },
  {
   "cell_type": "code",
   "execution_count": 1,
   "metadata": {
    "collapsed": false
   },
   "outputs": [],
   "source": [
    "import numpy as np\n",
    "import matplotlib.pyplot as plt\n",
    "%matplotlib inline\n",
    "\n",
    "def prob_to_binary(probs):\n",
    "    return np.random.binomial(1,probs)"
   ]
  },
  {
   "cell_type": "markdown",
   "metadata": {},
   "source": [
    "# RBM which encodes probabilities instead of binary values \n",
    "\n",
    "The RBM is also set up so that it can interact with a bath\n",
    "\n",
    "Note: in the last implementation, I used direct node-to-node mixing between visible and hidden layers. Here, I will allow multiple visible nodes to interact with each hidden node, and vice versa. For starters, I will let the mixing parameters be random"
   ]
  },
  {
   "cell_type": "code",
   "execution_count": 15,
   "metadata": {
    "collapsed": false
   },
   "outputs": [],
   "source": [
    "class RBMProb:\n",
    "    \"\"\"A probabilistic implementation of a Restricted Boltzmann Machine.\"\"\"\n",
    "    def __init__(self, num_v = 4, num_h = 4, bath_coupling = 0.1):\n",
    "       \n",
    "        #internal parameters\n",
    "        self.num_v = num_v\n",
    "        self.num_h = num_h\n",
    "        \n",
    "        #initial biases/couplings are random\n",
    "        #self.b_v = np.random.uniform(size = (num_v,))\n",
    "        #self.b_h = np.random.uniform(size = (num_h,)) \n",
    "        #self.w = np.random.uniform(size = (num_v,num_h))\n",
    "        \n",
    "        #initial state of visible and hidden units is random\n",
    "        self.visible_probs = np.random.uniform(size = (num_v,))\n",
    "        self.hidden_probs = np.random.uniform(size = (num_h,))            \n",
    "        \n",
    "        #mixing parameters\n",
    "        self.mixing_params = np.random.uniform(size=(num_v,num_h))\n",
    "        self.bath_coupling = bath_coupling\n",
    "\n",
    "    def __str__(self):\n",
    "        stateString = 'vis_probs: \\n' + str(self.visible_probs) + '\\n' + 'hid_probs: \\n'+ str(self.hidden_probs) + '\\n' \n",
    "        return stateString\n",
    "                \n",
    "    def evolve(self, num_steps, print_states = True):\n",
    "        #internal evolution of RBM\n",
    "        \n",
    "        m = self.mixing_params\n",
    "        \n",
    "        if print_states:\n",
    "            print 'Initial state: '\n",
    "            print self\n",
    "        \n",
    "        for ctr in range(num_steps):\n",
    "            #perform update\n",
    "            hidden_update = np.dot(m,self.visible_probs) + np.dot(1-m, self.hidden_probs)\n",
    "            self.hidden_probs = hidden_update/np.sum(hidden_update)\n",
    "            visible_update = np.dot(m,self.hidden_probs) + np.dot(1-m,self.visible_probs)\n",
    "            self.visible_probs = visible_update/np.sum(visible_update)\n",
    "\n",
    "        if print_states:        \n",
    "            print '\\nFinal state: '\n",
    "            print self\n",
    "\n",
    "    def interact_with_bath(self, bath):\n",
    "        \n",
    "        m = self.bath_coupling\n",
    "        \n",
    "        if bath.rep == 'probability':\n",
    "            self.visible_probs = bath.probs\n",
    "        elif bath.rep == 'binary':\n",
    "            self.visible_probs = m*bath.state + (1-m)*self.visible_probs"
   ]
  },
  {
   "cell_type": "markdown",
   "metadata": {},
   "source": [
    "# Define simple bath models"
   ]
  },
  {
   "cell_type": "code",
   "execution_count": 16,
   "metadata": {
    "collapsed": false
   },
   "outputs": [],
   "source": [
    "class Bath:\n",
    "    def __init__(self, num_v = 4, representation = 'probability'):\n",
    "        \n",
    "        self.num_v = num_v\n",
    "        self.rep = representation\n",
    "        #for the moment, take fixed bath state\n",
    "        self.probs = np.zeros((num_v,))\n",
    "        if self.rep == 'binary':\n",
    "            self.state = prob_to_binary(self.probs)\n",
    "            \n",
    "    def refresh(self,new_vals):\n",
    "        if self.rep == 'binary':\n",
    "            self.state = new_vals\n",
    "        elif self.rep == 'probability':\n",
    "            self.probs = new_vals"
   ]
  },
  {
   "cell_type": "markdown",
   "metadata": {},
   "source": [
    "# Initialize system and bath\n",
    "\n",
    "Note: we will explore two representations for the bath"
   ]
  },
  {
   "cell_type": "code",
   "execution_count": 21,
   "metadata": {
    "collapsed": false
   },
   "outputs": [],
   "source": [
    "#initialize system and bath parameters\n",
    "np.random.seed(0)\n",
    "num_levels = 5\n",
    "num_v = num_levels\n",
    "num_h = num_levels\n",
    "m = np.random.uniform(size=(num_v,num_h))\n",
    "sys = RBMProb(num_v,num_h) \n",
    "\n",
    "betas = np.random.uniform(0.0,2.0,num_levels) #arbitrary choice of betas\n",
    "bath_probs = np.exp(-betas)\n",
    "bath_probs /= sum(bath_probs)\n",
    "\n",
    "data_prob = Bath(num_v,representation='probability')\n",
    "data_binary = Bath(num_v,representation='binary')"
   ]
  },
  {
   "cell_type": "markdown",
   "metadata": {},
   "source": [
    "# Let system and bath interact and equilibriate"
   ]
  },
  {
   "cell_type": "markdown",
   "metadata": {},
   "source": [
    "### Use probability encoding for bath"
   ]
  },
  {
   "cell_type": "code",
   "execution_count": 22,
   "metadata": {
    "collapsed": false
   },
   "outputs": [
    {
     "data": {
      "image/png": "[encoded data removed]",
      "text/plain": [
       "<matplotlib.figure.Figure at 0x7ff14cfb3110>"
      ]
     },
     "metadata": {},
     "output_type": "display_data"
    }
   ],
   "source": [
    "#let sys/bath interact\n",
    "num_steps = 5\n",
    "\n",
    "store_visible = []\n",
    "store_hidden = []\n",
    "for ctr in range(0,num_steps):\n",
    "\n",
    "    #update bath (doesn't do anything in this case)\n",
    "    data_prob.refresh(bath_probs)\n",
    "    \n",
    "    #interact with bath\n",
    "    sys.interact_with_bath(data_prob)\n",
    "    store_visible.append(list(sys.visible_probs))\n",
    "    store_hidden.append(list(sys.hidden_probs))\n",
    "    \n",
    "    #system self-interaction\n",
    "    sys.evolve(1,print_states=False)\n",
    "    store_visible.append(list(sys.visible_probs))\n",
    "    store_hidden.append(list(sys.hidden_probs))\n",
    "\n",
    "store_visible = np.array(store_visible)\n",
    "store_hidden = np.array(store_hidden)\n",
    "    \n",
    "ax1=plt.subplot(1,2,1);\n",
    "plt.plot(store_visible);\n",
    "plt.subplot(1,2,2,sharey = ax1);\n",
    "plt.plot(store_hidden);\n",
    "ax1.set_ylim([0.0,1.0]);"
   ]
  },
  {
   "cell_type": "markdown",
   "metadata": {},
   "source": [
    "Clearly now the visible and hidden units do not equilibriate to the same values"
   ]
  },
  {
   "cell_type": "code",
   "execution_count": 19,
   "metadata": {
    "collapsed": false
   },
   "outputs": [
    {
     "name": "stdout",
     "output_type": "stream",
     "text": [
      "[ 0.19439611  0.2078102   0.19272129  0.21371144  0.19136096]\n",
      "[ 0.2057481   0.1919888   0.20746603  0.18593571  0.20886136]\n",
      "[ 0.22512994  0.24810862  0.08325912  0.2346866   0.20881573]\n"
     ]
    }
   ],
   "source": [
    "print sys.visible_probs\n",
    "print sys.hidden_probs\n",
    "print bath_probs"
   ]
  },
  {
   "cell_type": "markdown",
   "metadata": {
    "collapsed": true
   },
   "source": [
    "Abandoned... moving on"
   ]
  },
  {
   "cell_type": "code",
   "execution_count": null,
   "metadata": {
    "collapsed": true
   },
   "outputs": [],
   "source": []
  }
 ],
 "metadata": {
  "kernelspec": {
   "display_name": "Python 2",
   "language": "python",
   "name": "python2"
  },
  "language_info": {
   "codemirror_mode": {
    "name": "ipython",
    "version": 2
   },
   "file_extension": ".py",
   "mimetype": "text/x-python",
   "name": "python",
   "nbconvert_exporter": "python",
   "pygments_lexer": "ipython2",
   "version": "2.7.10"
  }
 },
 "nbformat": 4,
 "nbformat_minor": 0
}
