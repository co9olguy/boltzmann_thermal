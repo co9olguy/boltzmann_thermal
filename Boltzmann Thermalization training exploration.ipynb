{
 "cells": [
  {
   "cell_type": "markdown",
   "metadata": {},
   "source": [
    "# Exploring a thermalisation-based training method for Restricted Boltzmann Machines"
   ]
  },
  {
   "cell_type": "code",
   "execution_count": 1,
   "metadata": {
    "collapsed": false
   },
   "outputs": [],
   "source": [
    "import numpy as np\n",
    "import matplotlib.pyplot as plt\n",
    "%matplotlib inline\n",
    "\n",
    "def prob_to_binary(probs):\n",
    "    return np.random.binomial(1,probs)"
   ]
  },
  {
   "cell_type": "markdown",
   "metadata": {},
   "source": [
    "# Trying for a specifically probability-based implementation"
   ]
  },
  {
   "cell_type": "code",
   "execution_count": 2,
   "metadata": {
    "collapsed": true
   },
   "outputs": [],
   "source": [
    "class RBMProb:\n",
    "    \"\"\"A probability-based implementation of a Restricted Boltzmann Machine.\"\"\"\n",
    "    def __init__(self, num_v = 4, num_h = 4, mixing_param = 0.1):\n",
    "       \n",
    "        #internal parameters\n",
    "        self.num_v = num_v\n",
    "        self.num_h = num_h\n",
    "        \n",
    "        #initial biases/couplings are random\n",
    "        self.b_v = np.random.uniform(size = (num_v,))\n",
    "        self.b_h = np.random.uniform(size = (num_h,)) \n",
    "        self.w = np.random.uniform(size = (num_v,num_h))\n",
    "        \n",
    "        #initial state of visible and hidden units is random\n",
    "        self.visible_probs = np.random.uniform(size = (num_v,))\n",
    "        self.hidden_probs = np.random.uniform(size = (num_h,))            \n",
    "        \n",
    "        #mixing parameter\n",
    "        self.mixing_param = mixing_param\n",
    "\n",
    "    def __str__(self):\n",
    "        stateString = 'vis_probs: \\n' + str(self.visible_probs) + '\\n' + 'hid_probs: \\n'+ str(self.hidden_probs) + '\\n' \n",
    "        return stateString\n",
    "                \n",
    "    def evolve(self, num_steps, print_states = True):\n",
    "        #internal evolution of RBM\n",
    "        \n",
    "        m = self.mixing_param\n",
    "        \n",
    "        if print_states:\n",
    "            print 'Initial state: '\n",
    "            print self\n",
    "        \n",
    "        for ctr in range(0,num_steps):\n",
    "            #perform update\n",
    "            self.hidden_probs = m*self.visible_probs + (1-m)*self.hidden_probs\n",
    "            self.visible_probs = m*self.hidden_probs + (1-m)*self.visible_probs\n",
    "\n",
    "        if print_states:        \n",
    "            print '\\nFinal state: '\n",
    "            print self\n",
    "\n",
    "    def interact_with_bath(self, bath):\n",
    "        \n",
    "        m = self.mixing_param\n",
    "        \n",
    "        if bath.rep == 'probability':\n",
    "            self.visible_probs = bath.probs\n",
    "        elif bath.rep == 'binary':\n",
    "            self.visible_probs = m*bath.state + (1-m)*self.visible_probs"
   ]
  },
  {
   "cell_type": "code",
   "execution_count": 3,
   "metadata": {
    "collapsed": false
   },
   "outputs": [],
   "source": [
    "class Bath:\n",
    "    def __init__(self, num_v = 4, representation = 'probability'):\n",
    "        \n",
    "        self.num_v = num_v\n",
    "        self.rep = representation\n",
    "        #for the moment, take fixed bath state\n",
    "        self.probs = np.zeros((num_v,))\n",
    "        if self.rep == 'binary':\n",
    "            self.state = prob_to_binary(self.probs)\n",
    "            \n",
    "    def refresh(self,new_vals):\n",
    "        if self.rep == 'binary':\n",
    "            self.state = new_vals\n",
    "        elif self.rep == 'probability':\n",
    "            self.probs = new_vals"
   ]
  },
  {
   "cell_type": "code",
   "execution_count": 38,
   "metadata": {
    "collapsed": false
   },
   "outputs": [],
   "source": [
    "#initialize system and bath parameters\n",
    "np.random.seed(1)\n",
    "num_levels = 5\n",
    "num_v = num_levels\n",
    "num_h = num_levels\n",
    "sys = RBMProb(num_v,num_h,mixing_param=0.3)\n",
    "\n",
    "betas = np.random.uniform(0.0,2.0,num_levels) #arbitrary choice of betas\n",
    "bath_probs = np.exp(-betas)\n",
    "bath_probs /= sum(bath_probs)\n",
    "\n",
    "data_prob = Bath(num_v,representation='probability')\n",
    "data_binary = Bath(num_v,representation='binary')"
   ]
  },
  {
   "cell_type": "code",
   "execution_count": 39,
   "metadata": {
    "collapsed": false
   },
   "outputs": [
    {
     "data": {
      "image/png": "[encoded data removed]",
      "text/plain": [
       "<matplotlib.figure.Figure at 0x7f47c92ec410>"
      ]
     },
     "metadata": {},
     "output_type": "display_data"
    }
   ],
   "source": [
    "#let sys/bath interact\n",
    "num_steps = 25\n",
    "\n",
    "store_visible = []\n",
    "store_hidden = []\n",
    "for ctr in range(0,num_steps):\n",
    "\n",
    "    #update bath (doesn't do anything in this case)\n",
    "    data_prob.refresh(bath_probs)\n",
    "    \n",
    "    #interact with bath\n",
    "    sys.interact_with_bath(data_prob)\n",
    "    store_visible.append(list(sys.visible_probs))\n",
    "    store_hidden.append(list(sys.hidden_probs))\n",
    "    \n",
    "    #system self-interaction\n",
    "    sys.evolve(1,print_states=False)\n",
    "    store_visible.append(list(sys.visible_probs))\n",
    "    store_hidden.append(list(sys.hidden_probs))\n",
    "\n",
    "store_visible = np.array(store_visible)\n",
    "store_hidden = np.array(store_hidden)\n",
    "    \n",
    "ax1=plt.subplot(1,2,1);\n",
    "plt.plot(store_visible);\n",
    "plt.subplot(1,2,2,sharey = ax1);\n",
    "plt.plot(store_hidden);\n",
    "ax1.set_ylim([0.0,1.0]);"
   ]
  },
  {
   "cell_type": "markdown",
   "metadata": {},
   "source": [
    "# Now do exact same thing, except bath states are sampled instead of using probability representation"
   ]
  },
  {
   "cell_type": "code",
   "execution_count": 44,
   "metadata": {
    "collapsed": false
   },
   "outputs": [
    {
     "data": {
      "image/png": "[encoded data removed]",
      "text/plain": [
       "<matplotlib.figure.Figure at 0x7f47c8f64390>"
      ]
     },
     "metadata": {},
     "output_type": "display_data"
    }
   ],
   "source": [
    "#let sys/bath interact for long time\n",
    "num_steps = 10\n",
    "\n",
    "store_visible = []\n",
    "store_hidden = []\n",
    "store_bath = []\n",
    "\n",
    "for ctr in range(0,num_steps):\n",
    "\n",
    "    #update bath\n",
    "    data_binary.refresh(prob_to_binary(bath_probs))\n",
    "    store_bath.append(data_binary.probs)\n",
    "    \n",
    "    #interact with bath\n",
    "    sys.interact_with_bath(data_binary)\n",
    "    store_visible.append(list(sys.visible_probs))\n",
    "    store_hidden.append(list(sys.hidden_probs))\n",
    "    \n",
    "    #system self-interaction\n",
    "    sys.evolve(1,print_states=False)\n",
    "    store_visible.append(list(sys.visible_probs))\n",
    "    store_hidden.append(list(sys.hidden_probs))\n",
    "\n",
    "#evolve without bath    \n",
    "#for ctr in range(0,num_steps):   \n",
    "#    sys.evolve(1,print_states=False)\n",
    "#    store_visible.append(list(sys.visible_probs))\n",
    "#    store_hidden.append(list(sys.hidden_probs))    \n",
    "\n",
    "store_visible = np.array(store_visible)\n",
    "store_hidden = np.array(store_hidden)\n",
    "store_bath = np.array(store_bath)\n",
    "\n",
    "    \n",
    "ax1=plt.subplot(1,2,1);\n",
    "plt.plot(store_visible);\n",
    "plt.subplot(1,2,2,sharey = ax1);\n",
    "plt.plot(store_hidden);\n",
    "ax1.set_ylim([0.0,1.0]);\n"
   ]
  },
  {
   "cell_type": "code",
   "execution_count": 41,
   "metadata": {
    "collapsed": false,
    "scrolled": true
   },
   "outputs": [
    {
     "data": {
      "text/plain": [
       "array([ 0.170071  ,  0.06370303,  0.22383455,  0.22866478,  0.32115846])"
      ]
     },
     "execution_count": 41,
     "metadata": {},
     "output_type": "execute_result"
    }
   ],
   "source": [
    "np.mean(store_visible[1000:-1,:],axis=0) #ignoring \"burn-in\" period"
   ]
  },
  {
   "cell_type": "code",
   "execution_count": 42,
   "metadata": {
    "collapsed": false
   },
   "outputs": [
    {
     "data": {
      "text/plain": [
       "array([ 0.17009873,  0.06368704,  0.22385759,  0.22864943,  0.32115641])"
      ]
     },
     "execution_count": 42,
     "metadata": {},
     "output_type": "execute_result"
    }
   ],
   "source": [
    "np.mean(store_hidden[1000:-1,:],axis=0) #ignoring \"burn-in\" period"
   ]
  },
  {
   "cell_type": "code",
   "execution_count": 43,
   "metadata": {
    "collapsed": false
   },
   "outputs": [
    {
     "data": {
      "text/plain": [
       "array([ 0.16596754,  0.06604843,  0.22595841,  0.22861253,  0.31341309])"
      ]
     },
     "execution_count": 43,
     "metadata": {},
     "output_type": "execute_result"
    }
   ],
   "source": [
    "bath_probs"
   ]
  },
  {
   "cell_type": "code",
   "execution_count": null,
   "metadata": {
    "collapsed": true
   },
   "outputs": [],
   "source": []
  },
  {
   "cell_type": "code",
   "execution_count": null,
   "metadata": {
    "collapsed": true
   },
   "outputs": [],
   "source": []
  },
  {
   "cell_type": "code",
   "execution_count": null,
   "metadata": {
    "collapsed": true
   },
   "outputs": [],
   "source": []
  },
  {
   "cell_type": "markdown",
   "metadata": {
    "collapsed": true
   },
   "source": [
    "# Leftover junk"
   ]
  },
  {
   "cell_type": "markdown",
   "metadata": {
    "collapsed": true
   },
   "source": [
    "class RBM:\n",
    "    \"\"\"A Restricted Boltzmann Machine Architecture with fixed biases and couplings.\"\"\"\n",
    "    def __init__(self, numV = 5, numH = 4, activation= 'sigmoid', representation = 'probability'):\n",
    "       \n",
    "        #internal parameters\n",
    "        self.numV = numV\n",
    "        self.numH = numH\n",
    "        \n",
    "        #initial biases/couplings are random\n",
    "        self.bV = np.random.uniform(size = (numV,))\n",
    "        self.bH = np.random.uniform(size = (numH,)) \n",
    "        self.W = np.random.uniform(size = (numV,numH))\n",
    "        \n",
    "        #initial state of visible and hidden units is random\n",
    "        self.visibleProbs = np.random.uniform(size = (numV,))\n",
    "        self.hiddenProbs = np.random.uniform(size = (numH,))        \n",
    "        \n",
    "        #representation of units\n",
    "        self.rep = representation\n",
    "        if self.rep == 'probability':\n",
    "            self.visibleLayer = self.visibleProbs\n",
    "            self.hiddenLayer = self.hiddenProbs            \n",
    "        elif self.rep == 'binary':\n",
    "            self.visibleLayer = probToBinary(self.visibleProbs)\n",
    "            self.hiddenLayer = probToBinary(self.hiddenProbs)\n",
    "            \n",
    "        #activation function\n",
    "        if activation == 'sigmoid':\n",
    "            self.activation = lambda x: 1 / (1 + np.exp(-x))\n",
    "        elif activation == 'linear':\n",
    "            self.activation = lambda x: x\n",
    "\n",
    "    def __str__(self):\n",
    "        stateString = 'visProbs: \\n' + str(self.visibleProbs) + '\\n' + 'visVals: \\n' + str(self.visibleLayer) + '\\n' + 'hidProbs: \\n'+ str(self.hiddenProbs) + '\\n' + 'hidVals: \\n' + str(self.hiddenLayer) + '\\n'\n",
    "        return stateString\n",
    "                \n",
    "    def evolve(self, numSteps, updateRule = 'useValues', printStates = True):\n",
    "        #internal evolution of RBM\n",
    "        \n",
    "        if printStates:\n",
    "            print 'Initial state: '\n",
    "            print self\n",
    "        \n",
    "        for step in range(0,numSteps):\n",
    "\n",
    "            #if update rule uses state values\n",
    "            if updateRule == 'useValues':\n",
    "                if self.rep == 'binary':\n",
    "                    #use values\n",
    "                    vVals = self.visibleLayer\n",
    "                    hVals = self.hiddenLayer\n",
    "                elif self.rep == 'probability':\n",
    "                    #first sample from probs to get values\n",
    "                    vVals = probToBinary(self.visibleLayer)\n",
    "                    hVals = probToBinary(self.hiddenLayer)\n",
    "\n",
    "            #if update rule uses probabilities\n",
    "            elif updateRule == 'useProbs':\n",
    "                hVals = self.hiddenProbs\n",
    "                vVals = self.visibleProbs\n",
    "                \n",
    "            #perform update\n",
    "            updateVisible = self.W.dot(hVals) + self.bV\n",
    "            updateHidden = self.W.T.dot(vVals) + self.bH\n",
    "            self.visibleProbs = self.activation(updateVisible)\n",
    "            self.hiddenProbs = self.activation(updateHidden) \n",
    "            \n",
    "            if self.rep == 'probability':\n",
    "                #store probability\n",
    "                self.visibleLayer = self.visibleProbs\n",
    "                self.hiddenLayer = self.hiddenProbs\n",
    "            elif self.rep == 'binary':\n",
    "                #choose 0 or 1 based on probability\n",
    "                self.visibleLayer = probToBinary(self.visibleProbs)\n",
    "                self.hiddenLayer = probToBinary(self.hiddenProbs) \n",
    "                \n",
    "        if printStates:        \n",
    "            print '\\nFinal state: '\n",
    "            print self\n",
    "\n",
    "    def interactWithBath(self, bath):\n",
    "        self.visibleProbs = bath.probs\n",
    "        self.visibleLayer = bath.state\n",
    "    "
   ]
  },
  {
   "cell_type": "markdown",
   "metadata": {
    "collapsed": false
   },
   "source": [
    "#initialize system and bath\n",
    "np.random.seed(1)\n",
    "numV = 5\n",
    "numH = 4\n",
    "sys = RBM(numV,numH,representation='binary')\n",
    "data = bath(numV,representation='binary')\n",
    "\n",
    "#let sys/bath interact for long time\n",
    "numSteps = 5\n",
    "\n",
    "storeVisible = []\n",
    "storeHidden = []\n",
    "\n",
    "sys.visibleProbs = np.zeros((numV,))\n",
    "sys.hiddenProbs = np.zeros((numH,))\n",
    "storeVisible.append(sys.visibleProbs)\n",
    "storeHidden.append(sys.hiddenProbs)\n",
    "\n",
    "\n",
    "for _ in range(0,numSteps):\n",
    "    #sys.interactWithBath(data)\n",
    "    #storeVisible.append(sys.visibleProbs)\n",
    "    #storeHidden.append(sys.hiddenProbs)\n",
    "    \n",
    "    sys.evolve(1,updateRule='useProbs',printStates=False)\n",
    "    storeVisible.append(sys.visibleProbs)\n",
    "    storeHidden.append(sys.hiddenProbs) \n",
    "    \n",
    "    sys.evolve(1,updateRule='useProbs',printStates=False)\n",
    "    storeVisible.append(sys.visibleProbs)\n",
    "    storeHidden.append(sys.hiddenProbs) \n",
    "    \n",
    "\n",
    "plt.subplot(1,2,1)\n",
    "plt.plot(storeVisible);\n",
    "plt.subplot(1,2,2)\n",
    "plt.plot(storeHidden);"
   ]
  }
 ],
 "metadata": {
  "kernelspec": {
   "display_name": "Python 2",
   "language": "python",
   "name": "python2"
  },
  "language_info": {
   "codemirror_mode": {
    "name": "ipython",
    "version": 2
   },
   "file_extension": ".py",
   "mimetype": "text/x-python",
   "name": "python",
   "nbconvert_exporter": "python",
   "pygments_lexer": "ipython2",
   "version": "2.7.10"
  }
 },
 "nbformat": 4,
 "nbformat_minor": 0
}
